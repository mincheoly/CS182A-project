{
 "cells": [
  {
   "cell_type": "markdown",
   "id": "859226ff-3a53-4738-a11c-5954d08cab8e",
   "metadata": {},
   "source": [
    "# Paired guide similarity analysis"
   ]
  },
  {
   "cell_type": "code",
   "execution_count": 5,
   "id": "8372093b-175c-413a-8461-730c12c1710b",
   "metadata": {},
   "outputs": [],
   "source": [
    "import scanpy as sc\n",
    "import pandas as pd\n",
    "import numpy as np\n",
    "import pandas as pd\n",
    "import scipy.sparse as sparse\n",
    "import scipy.stats as stats\n",
    "import sklearn.linear_model as lm\n",
    "import sklearn.metrics as metrics\n",
    "import itertools\n",
    "import seaborn as sns\n",
    "import matplotlib.pyplot as plt"
   ]
  },
  {
   "cell_type": "code",
   "execution_count": 1,
   "id": "59330268-5775-474a-a57a-e5327a5536e8",
   "metadata": {},
   "outputs": [],
   "source": [
    "data_path = '/mnt/c/Users/minch/Data/bmdc/'"
   ]
  },
  {
   "cell_type": "markdown",
   "id": "e222c755-632c-4dcc-a360-8f4f03e4cb87",
   "metadata": {},
   "source": [
    "### Define the models to be studied\n",
    "\n",
    "For each model, specify the path to the regression outputs"
   ]
  },
  {
   "cell_type": "code",
   "execution_count": 10,
   "id": "9a4e16f5-67b8-4f15-b972-f1f584563329",
   "metadata": {},
   "outputs": [],
   "source": [
    "models = {\n",
    "    'Base':'analysis/beta_null.csv',\n",
    "    'PCA_5':'analysis/beta_0_0.csv',\n",
    "    'VAE_128_5':'analysis/beta_128_5.csv',\n",
    "}"
   ]
  },
  {
   "cell_type": "markdown",
   "id": "185efc47-c7d7-4015-a5a8-14082e2aee66",
   "metadata": {},
   "source": [
    "### Paired guides"
   ]
  },
  {
   "cell_type": "code",
   "execution_count": 22,
   "id": "7fbde5cf-f5b5-408d-8f24-573ccd6ccf2e",
   "metadata": {},
   "outputs": [],
   "source": [
    "detailed_results = []\n",
    "results = []\n",
    "for name, path in models.items():\n",
    "    \n",
    "    coefs_df = pd.read_csv(data_path + path, index_col=0)\n",
    "    guide_list = coefs_df.columns.tolist()\n",
    "    \n",
    "    # Get a list of guides that have an effect\n",
    "    sig_guide_list = coefs_df.columns[coefs_df.max(axis=0) > 0.15]\n",
    "    sig_guide_genes = [x.split('_')[1] for x in sig_guide_list]\n",
    "    \n",
    "    # Generate combinations of guides\n",
    "    guide_pairs = pd.DataFrame(itertools.combinations(guide_list, 2),columns=['guide1', 'guide2'])\n",
    "    guide_pairs['target_gene_1'] = guide_pairs['guide1'].str.split('_').str[1]\n",
    "    guide_pairs['target_gene_2'] = guide_pairs['guide2'].str.split('_').str[1]\n",
    "    guide_pairs['paired'] = guide_pairs['target_gene_1'] == guide_pairs['target_gene_2']\n",
    "    guide_pairs['sig'] = guide_pairs['target_gene_1'].isin(sig_guide_genes) & guide_pairs['target_gene_2'].isin(sig_guide_genes)\n",
    "    \n",
    "    # A pair is a positive control if it's targeting same gene and it has an effect\n",
    "    guide_pairs['pos_ctrl'] = guide_pairs['paired'] & guide_pairs['sig']\n",
    "    \n",
    "    # Compute correlations\n",
    "    guide_pairs['beta_corr'] = [stats.spearmanr(coefs_df[row['guide1']], coefs_df[row['guide2']])[0] for idx, row in guide_pairs.iterrows()]\n",
    "    guide_pairs['method'] = name\n",
    "    \n",
    "    detailed_results.append(guide_pairs)\n",
    "    ks_stat, ks_pval = stats.ks_2samp( \n",
    "        guide_pairs.query('~pos_ctrl').beta_corr,\n",
    "        guide_pairs.query('pos_ctrl').beta_corr)\n",
    "    results.append((name, ks_stat, ks_pval))\n",
    "    \n",
    "detailed_results = pd.concat(detailed_results)\n",
    "results = pd.DataFrame(results, columns=['method', 'ks_stat', 'ks_pval'])"
   ]
  },
  {
   "cell_type": "code",
   "execution_count": 28,
   "id": "99882b32-cffc-4ead-967e-7d833cd8b3d6",
   "metadata": {},
   "outputs": [
    {
     "data": {
      "text/plain": [
       "method     pos_ctrl\n",
       "Base       False       0.002709\n",
       "           True        0.014929\n",
       "PCA_5      False       0.002485\n",
       "           True        0.014009\n",
       "VAE_128_5  False       0.002496\n",
       "           True        0.015292\n",
       "Name: beta_corr, dtype: float64"
      ]
     },
     "execution_count": 28,
     "metadata": {},
     "output_type": "execute_result"
    }
   ],
   "source": [
    "detailed_results.groupby(['method', 'pos_ctrl'])['beta_corr'].mean()"
   ]
  },
  {
   "cell_type": "code",
   "execution_count": 26,
   "id": "280b0ff7-9507-4d2b-bfd4-e6ffafdba7fe",
   "metadata": {},
   "outputs": [
    {
     "data": {
      "text/plain": [
       "<pandas.core.groupby.generic.DataFrameGroupBy object at 0x7f7e1d0e9870>"
      ]
     },
     "execution_count": 26,
     "metadata": {},
     "output_type": "execute_result"
    }
   ],
   "source": [
    "detailed_results.groupby(['method', 'pos_ctrl'])"
   ]
  },
  {
   "cell_type": "code",
   "execution_count": 23,
   "id": "7caf6262-e2c1-43e5-9d7e-f198322c15ec",
   "metadata": {},
   "outputs": [
    {
     "data": {
      "text/plain": [
       "<Axes: xlabel='method', ylabel='beta_corr'>"
      ]
     },
     "execution_count": 23,
     "metadata": {},
     "output_type": "execute_result"
    },
    {
     "data": {
      "image/png": "[encoded data removed]",
      "text/plain": [
       "<Figure size 640x480 with 1 Axes>"
      ]
     },
     "metadata": {},
     "output_type": "display_data"
    }
   ],
   "source": [
    "sns.boxplot(x='method', y='beta_corr', hue='pos_ctrl', data=detailed_results)"
   ]
  },
  {
   "cell_type": "code",
   "execution_count": 24,
   "id": "0cc5772b-ddb9-4cd3-bdfc-7be518ae0696",
   "metadata": {},
   "outputs": [
    {
     "data": {
      "text/html": [
       "<div>\n",
       "<style scoped>\n",
       "    .dataframe tbody tr th:only-of-type {\n",
       "        vertical-align: middle;\n",
       "    }\n",
       "\n",
       "    .dataframe tbody tr th {\n",
       "        vertical-align: top;\n",
       "    }\n",
       "\n",
       "    .dataframe thead th {\n",
       "        text-align: right;\n",
       "    }\n",
       "</style>\n",
       "<table border=\"1\" class=\"dataframe\">\n",
       "  <thead>\n",
       "    <tr style=\"text-align: right;\">\n",
       "      <th></th>\n",
       "      <th>method</th>\n",
       "      <th>ks_stat</th>\n",
       "      <th>ks_pval</th>\n",
       "    </tr>\n",
       "  </thead>\n",
       "  <tbody>\n",
       "    <tr>\n",
       "      <th>0</th>\n",
       "      <td>Base</td>\n",
       "      <td>0.359414</td>\n",
       "      <td>0.002365</td>\n",
       "    </tr>\n",
       "    <tr>\n",
       "      <th>1</th>\n",
       "      <td>PCA_5</td>\n",
       "      <td>0.417747</td>\n",
       "      <td>0.000210</td>\n",
       "    </tr>\n",
       "    <tr>\n",
       "      <th>2</th>\n",
       "      <td>VAE_128_5</td>\n",
       "      <td>0.488506</td>\n",
       "      <td>0.000027</td>\n",
       "    </tr>\n",
       "  </tbody>\n",
       "</table>\n",
       "</div>"
      ],
      "text/plain": [
       "      method   ks_stat   ks_pval\n",
       "0       Base  0.359414  0.002365\n",
       "1      PCA_5  0.417747  0.000210\n",
       "2  VAE_128_5  0.488506  0.000027"
      ]
     },
     "execution_count": 24,
     "metadata": {},
     "output_type": "execute_result"
    }
   ],
   "source": [
    "results"
   ]
  },
  {
   "cell_type": "code",
   "execution_count": null,
   "id": "0e0874a6-8294-4db5-b6fc-3659de4e4e52",
   "metadata": {},
   "outputs": [],
   "source": []
  }
 ],
 "metadata": {
  "kernelspec": {
   "display_name": "scVI (Python 3.9)",
   "language": "python",
   "name": "scvi"
  },
  "language_info": {
   "codemirror_mode": {
    "name": "ipython",
    "version": 3
   },
   "file_extension": ".py",
   "mimetype": "text/x-python",
   "name": "python",
   "nbconvert_exporter": "python",
   "pygments_lexer": "ipython3",
   "version": "3.10.11"
  }
 },
 "nbformat": 4,
 "nbformat_minor": 5
}
