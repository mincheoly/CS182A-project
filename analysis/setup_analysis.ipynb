{
 "cells": [
  {
   "cell_type": "markdown",
   "id": "b7310942-bd97-44d3-9b14-350ec096f644",
   "metadata": {},
   "source": [
    "# Paired guide correlation analysis"
   ]
  },
  {
   "cell_type": "code",
   "execution_count": 135,
   "id": "64620710-b1b4-4026-9b51-4b2542faa682",
   "metadata": {},
   "outputs": [],
   "source": [
    "import scanpy as sc\n",
    "import pandas as pd\n",
    "import numpy as np\n",
    "import scipy.sparse as sparse\n",
    "import scipy.stats as stats\n",
    "import sklearn.linear_model as lm\n",
    "import sklearn.metrics as metrics\n",
    "import itertools\n",
    "import seaborn as sns\n",
    "import matplotlib.pyplot as plt"
   ]
  },
  {
   "cell_type": "code",
   "execution_count": 136,
   "id": "f9751658-87a0-4fc1-9c79-e454c5423ee8",
   "metadata": {},
   "outputs": [],
   "source": [
    "# EDIT THIS TO YOUR PATH WITH DATA\n",
    "data_path = '/mnt/c/Users/minch/Data/bmdc/'"
   ]
  },
  {
   "cell_type": "markdown",
   "id": "4f7b69f1-dc91-485e-9e67-7b7a2b261d32",
   "metadata": {},
   "source": [
    "### Read AnnData"
   ]
  },
  {
   "cell_type": "code",
   "execution_count": 137,
   "id": "72024a74-8014-4961-be7d-5502edc30be9",
   "metadata": {},
   "outputs": [],
   "source": [
    "adata = sc.read(data_path + 'processed_bmdc_counts.h5ad')\n",
    "adata.layers['counts'] = adata.X\n",
    "sc.pp.normalize_total(adata)\n",
    "sc.pp.log1p(adata)\n",
    "num_genes = adata.shape[1]"
   ]
  },
  {
   "cell_type": "markdown",
   "id": "47dcb9dc-53db-4315-93fa-6c8dccd9dbcd",
   "metadata": {},
   "source": [
    "### Create the guide design matrix"
   ]
  },
  {
   "cell_type": "code",
   "execution_count": 138,
   "id": "a6cc0dea-9acc-4aea-b82d-d6c2e5673aea",
   "metadata": {},
   "outputs": [],
   "source": [
    "guide_set = set()\n",
    "for g in adata.obs['guide_string']:\n",
    "    guide_set |= set(g.split('-'))\n",
    "guide_list = list(guide_set)\n",
    "num_guides = len(guide_list)"
   ]
  },
  {
   "cell_type": "code",
   "execution_count": 139,
   "id": "9074486d-95fa-4cb7-bf59-892be15927b2",
   "metadata": {},
   "outputs": [],
   "source": [
    "design_matrix = pd.DataFrame(\n",
    "    data=np.zeros((adata.shape[0], len(guide_list))), \n",
    "    index=adata.obs.index,\n",
    "    columns=guide_list)"
   ]
  },
  {
   "cell_type": "code",
   "execution_count": 140,
   "id": "49ef9620-c779-4536-ae7c-0290efc03dbb",
   "metadata": {},
   "outputs": [],
   "source": [
    "for cell_barcode, row in adata.obs.iterrows():\n",
    "    guides = row['guide_string'].split('-')\n",
    "    for g in guides:\n",
    "        design_matrix.loc[cell_barcode,g] = 1"
   ]
  },
  {
   "cell_type": "code",
   "execution_count": 141,
   "id": "7d2d9dec-8e3a-4895-bb77-f52595690aa2",
   "metadata": {},
   "outputs": [],
   "source": [
    "design_matrix.to_csv(data_path + 'analysis/design_matrix.csv')"
   ]
  },
  {
   "cell_type": "markdown",
   "id": "8ea4b183-4ab9-4062-a6aa-c32a79a7e630",
   "metadata": {},
   "source": [
    "### Save the baseline, PCA matrix\n",
    "\n",
    "latent_0_0 is just a placeholder for PCA."
   ]
  },
  {
   "cell_type": "code",
   "execution_count": 276,
   "id": "7f380951-1442-4e7f-b5dd-7c2dd06f9013",
   "metadata": {},
   "outputs": [],
   "source": [
    "cell_state_matrix = pd.DataFrame(adata.obsm['X_pca'][:, :5])\n",
    "cell_state_matrix.to_csv(data_path + 'analysis/latent_0_0.csv')"
   ]
  },
  {
   "cell_type": "code",
   "execution_count": null,
   "id": "14f70a1d-6168-42b2-aa92-5dfb953632f1",
   "metadata": {},
   "outputs": [],
   "source": []
  },
  {
   "cell_type": "code",
   "execution_count": 271,
   "id": "09130a32-735a-4e2c-89b0-44b007f1dfdb",
   "metadata": {},
   "outputs": [
    {
     "data": {
      "text/plain": [
       "<Axes: xlabel='pos_ctrl', ylabel='beta_corr'>"
      ]
     },
     "execution_count": 271,
     "metadata": {},
     "output_type": "execute_result"
    },
    {
     "data": {
      "image/png": "[encoded data removed]",
      "text/plain": [
       "<Figure size 100x200 with 1 Axes>"
      ]
     },
     "metadata": {},
     "output_type": "display_data"
    }
   ],
   "source": [
    "plt.figure(figsize=(1,2))\n",
    "sns.boxplot(x='pos_ctrl', y='beta_corr', data=guide_pairs)\n",
    "# sns.stripplot(x='pos_ctrl', y='beta_corr', data=guide_pairs)"
   ]
  },
  {
   "cell_type": "code",
   "execution_count": 272,
   "id": "eaba25e9-c0cd-4f1a-a7a9-537784cfe0c7",
   "metadata": {},
   "outputs": [
    {
     "data": {
      "text/plain": [
       "KstestResult(statistic=0.48850641099688114, pvalue=2.7096539248989218e-05, statistic_location=0.005127147221198612, statistic_sign=1)"
      ]
     },
     "execution_count": 272,
     "metadata": {},
     "output_type": "execute_result"
    }
   ],
   "source": [
    "stats.ks_2samp(\n",
    "    guide_pairs.query('~pos_ctrl').beta_corr,\n",
    "    guide_pairs.query('pos_ctrl').beta_corr)"
   ]
  },
  {
   "cell_type": "code",
   "execution_count": 275,
   "id": "eea2db3e-7fa4-4b67-a8e5-5b6dcaa8077c",
   "metadata": {},
   "outputs": [
    {
     "data": {
      "image/png": "[encoded data removed]",
      "text/plain": [
       "<Figure size 640x480 with 1 Axes>"
      ]
     },
     "metadata": {},
     "output_type": "display_data"
    }
   ],
   "source": [
    "plt.hist(guide_pairs.query('~paired').beta_corr, density=True, bins=50, alpha=0.3);\n",
    "plt.hist(guide_pairs.query('paired & sig').beta_corr, density=True, bins=20, alpha=0.3);"
   ]
  },
  {
   "cell_type": "code",
   "execution_count": null,
   "id": "6103afb1-c92c-4241-9d10-56b322c6cb35",
   "metadata": {},
   "outputs": [],
   "source": [
    "KstestResult(statistic=0.35941438574156587, pvalue=0.0023648861080059185, statistic_location=0.002493127266733767, statistic_sign=1)\n"
   ]
  },
  {
   "cell_type": "code",
   "execution_count": null,
   "id": "22036d2b-318b-43fb-8f2e-b908e28f562a",
   "metadata": {},
   "outputs": [],
   "source": [
    "KstestResult(statistic=0.4177466581795035, pvalue=0.00021037914172774972, statistic_location=0.011718687065238187, statistic_sign=1)\n"
   ]
  },
  {
   "cell_type": "code",
   "execution_count": null,
   "id": "22acd9f7-7286-44e2-9458-1aa404bb9e64",
   "metadata": {},
   "outputs": [],
   "source": [
    "KstestResult(statistic=0.48850641099688114, pvalue=2.7096539248989218e-05, statistic_location=0.005127147221198612, statistic_sign=1)\n"
   ]
  },
  {
   "cell_type": "code",
   "execution_count": null,
   "id": "d64a0253-bd31-40f7-835f-f2ea45602869",
   "metadata": {},
   "outputs": [],
   "source": []
  },
  {
   "cell_type": "code",
   "execution_count": 251,
   "id": "ba01f227-e96a-45e0-8cfa-1a565c88c18b",
   "metadata": {},
   "outputs": [
    {
     "data": {
      "text/plain": [
       "<Axes: xlabel='pos_ctrl', ylabel='beta_corr'>"
      ]
     },
     "execution_count": 251,
     "metadata": {},
     "output_type": "execute_result"
    },
    {
     "data": {
      "image/png": "[encoded data removed]",
      "text/plain": [
       "<Figure size 100x200 with 1 Axes>"
      ]
     },
     "metadata": {},
     "output_type": "display_data"
    }
   ],
   "source": [
    "plt.figure(figsize=(1,2))\n",
    "sns.boxplot(x='pos_ctrl', y='beta_corr', data=guide_pairs)\n",
    "# sns.stripplot(x='pos_ctrl', y='beta_corr', data=guide_pairs)"
   ]
  },
  {
   "cell_type": "code",
   "execution_count": 252,
   "id": "9a6e5973-d29d-4191-8589-4d935d22d210",
   "metadata": {},
   "outputs": [
    {
     "data": {
      "text/plain": [
       "KstestResult(statistic=0.4177466581795035, pvalue=0.00021037914172774972, statistic_location=0.011718687065238187, statistic_sign=1)"
      ]
     },
     "execution_count": 252,
     "metadata": {},
     "output_type": "execute_result"
    }
   ],
   "source": [
    "stats.ks_2samp(\n",
    "    guide_pairs.query('~pos_ctrl').beta_corr,\n",
    "    guide_pairs.query('pos_ctrl').beta_corr)"
   ]
  },
  {
   "cell_type": "code",
   "execution_count": 253,
   "id": "9de26bb8-9a0e-4f1f-b3ed-70ec20f23d8e",
   "metadata": {},
   "outputs": [
    {
     "data": {
      "image/png": "[encoded data removed]",
      "text/plain": [
       "<Figure size 640x480 with 1 Axes>"
      ]
     },
     "metadata": {},
     "output_type": "display_data"
    }
   ],
   "source": [
    "plt.hist(guide_pairs.query('~paired').beta_corr, density=True, bins=50, alpha=0.3);\n",
    "plt.hist(guide_pairs.query('paired & sig').beta_corr, density=True, bins=20, alpha=0.3);"
   ]
  },
  {
   "cell_type": "code",
   "execution_count": null,
   "id": "188bb0fd-0bfb-444f-914d-6ee0656efc95",
   "metadata": {},
   "outputs": [],
   "source": []
  }
 ],
 "metadata": {
  "kernelspec": {
   "display_name": "scVI (Python 3.9)",
   "language": "python",
   "name": "scvi"
  },
  "language_info": {
   "codemirror_mode": {
    "name": "ipython",
    "version": 3
   },
   "file_extension": ".py",
   "mimetype": "text/x-python",
   "name": "python",
   "nbconvert_exporter": "python",
   "pygments_lexer": "ipython3",
   "version": "3.10.11"
  }
 },
 "nbformat": 4,
 "nbformat_minor": 5
}
