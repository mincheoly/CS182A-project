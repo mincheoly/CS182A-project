{
 "cells": [
  {
   "cell_type": "markdown",
   "id": "b7310942-bd97-44d3-9b14-350ec096f644",
   "metadata": {},
   "source": [
    "# Paired guide correlation analysis"
   ]
  },
  {
   "cell_type": "code",
   "execution_count": 1,
   "id": "64620710-b1b4-4026-9b51-4b2542faa682",
   "metadata": {},
   "outputs": [],
   "source": [
    "import scanpy as sc\n",
    "import pandas as pd\n",
    "import numpy as np\n",
    "import scipy.sparse as sparse\n",
    "import scipy.stats as stats\n",
    "import sklearn.linear_model as lm\n",
    "import sklearn.metrics as metrics\n",
    "import itertools\n",
    "import seaborn as sns\n",
    "import matplotlib.pyplot as plt"
   ]
  },
  {
   "cell_type": "code",
   "execution_count": 2,
   "id": "f9751658-87a0-4fc1-9c79-e454c5423ee8",
   "metadata": {},
   "outputs": [],
   "source": [
    "# EDIT THIS TO YOUR PATH WITH DATA\n",
    "data_path = '/mnt/c/Users/minch/Data/bmdc/'"
   ]
  },
  {
   "cell_type": "markdown",
   "id": "4f7b69f1-dc91-485e-9e67-7b7a2b261d32",
   "metadata": {},
   "source": [
    "### Read AnnData"
   ]
  },
  {
   "cell_type": "code",
   "execution_count": 3,
   "id": "72024a74-8014-4961-be7d-5502edc30be9",
   "metadata": {},
   "outputs": [],
   "source": [
    "adata = sc.read(data_path + 'processed_bmdc_counts.h5ad')\n",
    "adata.layers['counts'] = adata.X\n",
    "sc.pp.normalize_total(adata)\n",
    "sc.pp.log1p(adata)\n",
    "num_genes = adata.shape[1]"
   ]
  },
  {
   "cell_type": "markdown",
   "id": "47dcb9dc-53db-4315-93fa-6c8dccd9dbcd",
   "metadata": {},
   "source": [
    "### Create the guide design matrix"
   ]
  },
  {
   "cell_type": "code",
   "execution_count": 4,
   "id": "a6cc0dea-9acc-4aea-b82d-d6c2e5673aea",
   "metadata": {},
   "outputs": [],
   "source": [
    "guide_set = set()\n",
    "for g in adata.obs['guide_string']:\n",
    "    guide_set |= set(g.split('-'))\n",
    "guide_list = list(guide_set)\n",
    "num_guides = len(guide_list)"
   ]
  },
  {
   "cell_type": "code",
   "execution_count": 5,
   "id": "9074486d-95fa-4cb7-bf59-892be15927b2",
   "metadata": {},
   "outputs": [],
   "source": [
    "design_matrix = pd.DataFrame(\n",
    "    data=np.zeros((adata.shape[0], len(guide_list))), \n",
    "    index=adata.obs.index,\n",
    "    columns=guide_list)"
   ]
  },
  {
   "cell_type": "code",
   "execution_count": 6,
   "id": "49ef9620-c779-4536-ae7c-0290efc03dbb",
   "metadata": {},
   "outputs": [],
   "source": [
    "for cell_barcode, row in adata.obs.iterrows():\n",
    "    guides = row['guide_string'].split('-')\n",
    "    for g in guides:\n",
    "        design_matrix.loc[cell_barcode,g] = 1"
   ]
  },
  {
   "cell_type": "code",
   "execution_count": 7,
   "id": "7d2d9dec-8e3a-4895-bb77-f52595690aa2",
   "metadata": {},
   "outputs": [],
   "source": [
    "design_matrix.to_csv(data_path + 'analysis/design_matrix.csv')"
   ]
  },
  {
   "cell_type": "markdown",
   "id": "8ea4b183-4ab9-4062-a6aa-c32a79a7e630",
   "metadata": {},
   "source": [
    "### Save the baseline, PCA matrix\n",
    "\n",
    "latent_0_0 is just a placeholder for PCA."
   ]
  },
  {
   "cell_type": "code",
   "execution_count": 9,
   "id": "7f380951-1442-4e7f-b5dd-7c2dd06f9013",
   "metadata": {},
   "outputs": [],
   "source": [
    "for ndim in [3, 5, 10, 20]:\n",
    "    cell_state_matrix = pd.DataFrame(adata.obsm['X_pca'][:, :ndim])\n",
    "    cell_state_matrix.to_csv(data_path + 'analysis/latent_0_{}.csv'.format(ndim))"
   ]
  }
 ],
 "metadata": {
  "kernelspec": {
   "display_name": "scVI (Python 3.9)",
   "language": "python",
   "name": "scvi"
  },
  "language_info": {
   "codemirror_mode": {
    "name": "ipython",
    "version": 3
   },
   "file_extension": ".py",
   "mimetype": "text/x-python",
   "name": "python",
   "nbconvert_exporter": "python",
   "pygments_lexer": "ipython3",
   "version": "3.10.11"
  }
 },
 "nbformat": 4,
 "nbformat_minor": 5
}
